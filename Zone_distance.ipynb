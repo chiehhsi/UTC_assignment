{
 "cells": [
  {
   "cell_type": "markdown",
   "metadata": {},
   "source": [
    "## 2nd assignment\n",
    "Please submit your Python code and output in the following format:\n",
    "Zone_id label (not coordinates), 1st nearest neighbor zone label (not coordinates) : distance (in miles), … , 6th nearest neighbor zone label (not coordinates) : distance (in miles)."
   ]
  },
  {
   "cell_type": "code",
   "execution_count": 101,
   "metadata": {},
   "outputs": [],
   "source": [
    "import pandas as pd\n",
    "import numpy as np\n",
    "from scipy import spatial\n",
    "import math"
   ]
  },
  {
   "cell_type": "markdown",
   "metadata": {},
   "source": [
    "### DataSet Modified"
   ]
  },
  {
   "cell_type": "code",
   "execution_count": 102,
   "metadata": {},
   "outputs": [
    {
     "data": {
      "text/plain": [
       "(1944, 1)"
      ]
     },
     "execution_count": 102,
     "metadata": {},
     "output_type": "execute_result"
    }
   ],
   "source": [
    "#import coordinates.txt \n",
    "coor_df = pd.read_table('./coordinates.txt')\n",
    "coor_df.shape## Final_Sheet"
   ]
  },
  {
   "cell_type": "code",
   "execution_count": 103,
   "metadata": {
    "scrolled": false
   },
   "outputs": [
    {
     "data": {
      "text/html": [
       "<div>\n",
       "<style scoped>\n",
       "    .dataframe tbody tr th:only-of-type {\n",
       "        vertical-align: middle;\n",
       "    }\n",
       "\n",
       "    .dataframe tbody tr th {\n",
       "        vertical-align: top;\n",
       "    }\n",
       "\n",
       "    .dataframe thead th {\n",
       "        text-align: right;\n",
       "    }\n",
       "</style>\n",
       "<table border=\"1\" class=\"dataframe\">\n",
       "  <thead>\n",
       "    <tr style=\"text-align: right;\">\n",
       "      <th></th>\n",
       "      <th>zone09</th>\n",
       "      <th>Latitude, Longitude</th>\n",
       "    </tr>\n",
       "  </thead>\n",
       "  <tbody>\n",
       "    <tr>\n",
       "      <th>0</th>\n",
       "      <td>1</td>\n",
       "      <td>41.89457679280  -87.64530747770</td>\n",
       "    </tr>\n",
       "    <tr>\n",
       "      <th>1</th>\n",
       "      <td>2</td>\n",
       "      <td>41.89464672260  -87.64042628850</td>\n",
       "    </tr>\n",
       "    <tr>\n",
       "      <th>2</th>\n",
       "      <td>3</td>\n",
       "      <td>41.89471289300  -87.63551301540</td>\n",
       "    </tr>\n",
       "    <tr>\n",
       "      <th>3</th>\n",
       "      <td>4</td>\n",
       "      <td>41.89476770920  -87.63062889530</td>\n",
       "    </tr>\n",
       "    <tr>\n",
       "      <th>4</th>\n",
       "      <td>5</td>\n",
       "      <td>41.89483043620  -87.62579253650</td>\n",
       "    </tr>\n",
       "  </tbody>\n",
       "</table>\n",
       "</div>"
      ],
      "text/plain": [
       "  zone09                    Latitude, Longitude\n",
       "0      1        41.89457679280  -87.64530747770\n",
       "1      2        41.89464672260  -87.64042628850\n",
       "2      3        41.89471289300  -87.63551301540\n",
       "3      4        41.89476770920  -87.63062889530\n",
       "4      5        41.89483043620  -87.62579253650"
      ]
     },
     "execution_count": 103,
     "metadata": {},
     "output_type": "execute_result"
    }
   ],
   "source": [
    "# making separate column from new data frame\n",
    "new = coor_df[\"zone09  Latitude        Longitude\"].str.split(\" \", n = 1, expand = True)   \n",
    "coor_df[\"zone09\"]= new[0] \n",
    "coor_df[\"Latitude, Longitude\"]= new[1]   \n",
    "coor_df.drop(columns =[\"zone09  Latitude        Longitude\"], inplace = True)  \n",
    "coor_df.head()"
   ]
  },
  {
   "cell_type": "code",
   "execution_count": 104,
   "metadata": {},
   "outputs": [
    {
     "data": {
      "text/plain": [
       "(1944, 2)"
      ]
     },
     "execution_count": 104,
     "metadata": {},
     "output_type": "execute_result"
    }
   ],
   "source": [
    "#separate the Lat, Long column\n",
    "new = coor_df[\"Latitude, Longitude\"].str.split(\" \") \n",
    "for i in range(len(new)):\n",
    "    new[i]=list(filter(None, new[i]))\n",
    "coor_table = pd.DataFrame(list(new),columns =['Latitude', 'Longitude'])\n",
    "coor_table.shape"
   ]
  },
  {
   "cell_type": "code",
   "execution_count": 105,
   "metadata": {},
   "outputs": [],
   "source": [
    "order= list(range(1,coor_table.shape[0]+1))\n",
    "coor_table.insert(0, \"zone09\", order) "
   ]
  },
  {
   "cell_type": "code",
   "execution_count": 106,
   "metadata": {},
   "outputs": [
    {
     "data": {
      "text/html": [
       "<div>\n",
       "<style scoped>\n",
       "    .dataframe tbody tr th:only-of-type {\n",
       "        vertical-align: middle;\n",
       "    }\n",
       "\n",
       "    .dataframe tbody tr th {\n",
       "        vertical-align: top;\n",
       "    }\n",
       "\n",
       "    .dataframe thead th {\n",
       "        text-align: right;\n",
       "    }\n",
       "</style>\n",
       "<table border=\"1\" class=\"dataframe\">\n",
       "  <thead>\n",
       "    <tr style=\"text-align: right;\">\n",
       "      <th></th>\n",
       "      <th>zone09</th>\n",
       "      <th>Latitude</th>\n",
       "      <th>Longitude</th>\n",
       "    </tr>\n",
       "  </thead>\n",
       "  <tbody>\n",
       "    <tr>\n",
       "      <th>0</th>\n",
       "      <td>1</td>\n",
       "      <td>41.89457679280</td>\n",
       "      <td>-87.64530747770</td>\n",
       "    </tr>\n",
       "    <tr>\n",
       "      <th>1</th>\n",
       "      <td>2</td>\n",
       "      <td>41.89464672260</td>\n",
       "      <td>-87.64042628850</td>\n",
       "    </tr>\n",
       "    <tr>\n",
       "      <th>2</th>\n",
       "      <td>3</td>\n",
       "      <td>41.89471289300</td>\n",
       "      <td>-87.63551301540</td>\n",
       "    </tr>\n",
       "    <tr>\n",
       "      <th>3</th>\n",
       "      <td>4</td>\n",
       "      <td>41.89476770920</td>\n",
       "      <td>-87.63062889530</td>\n",
       "    </tr>\n",
       "    <tr>\n",
       "      <th>4</th>\n",
       "      <td>5</td>\n",
       "      <td>41.89483043620</td>\n",
       "      <td>-87.62579253650</td>\n",
       "    </tr>\n",
       "  </tbody>\n",
       "</table>\n",
       "</div>"
      ],
      "text/plain": [
       "   zone09        Latitude        Longitude\n",
       "0       1  41.89457679280  -87.64530747770\n",
       "1       2  41.89464672260  -87.64042628850\n",
       "2       3  41.89471289300  -87.63551301540\n",
       "3       4  41.89476770920  -87.63062889530\n",
       "4       5  41.89483043620  -87.62579253650"
      ]
     },
     "execution_count": 106,
     "metadata": {},
     "output_type": "execute_result"
    }
   ],
   "source": [
    "coor_table.head()"
   ]
  },
  {
   "cell_type": "code",
   "execution_count": 108,
   "metadata": {},
   "outputs": [
    {
     "data": {
      "text/plain": [
       "zone09         int64\n",
       "Latitude     float64\n",
       "Longitude    float64\n",
       "dtype: object"
      ]
     },
     "execution_count": 108,
     "metadata": {},
     "output_type": "execute_result"
    }
   ],
   "source": [
    "coor_table = coor_table.astype(dtype= { \"Latitude\":\"float64\",\"Longitude\":\"float64\"})\n",
    "coor_table.dtypes"
   ]
  },
  {
   "cell_type": "markdown",
   "metadata": {},
   "source": [
    "### Find 6 Closest Zone"
   ]
  },
  {
   "cell_type": "code",
   "execution_count": 109,
   "metadata": {},
   "outputs": [],
   "source": [
    "#Euclidian distance\n",
    "def cartesian(latitude, longitude, elevation = 0):\n",
    "    # Convert to radians\n",
    "    latitude = float(latitude) * (math.pi / 180)\n",
    "    longitude = float(longitude) * (math.pi / 180)\n",
    "\n",
    "    R = 6371 # 6378137.0 + elevation  # relative to centre of the earth\n",
    "    X = R * math.cos(latitude) * math.cos(longitude)\n",
    "    Y = R * math.cos(latitude) * math.sin(longitude)\n",
    "    Z = R * math.sin(latitude)\n",
    "    return (X, Y, Z)"
   ]
  },
  {
   "cell_type": "code",
   "execution_count": 110,
   "metadata": {},
   "outputs": [],
   "source": [
    "#We can use a k-dimensional tree to organize our points in our 3-dimensional space.\n",
    "#This is a data structure from computer science that can help with searches over multidimensional keys\n",
    "\n",
    "places = []\n",
    "coor_array = np.array(coor_table)\n",
    "for i in range(0, coor_array.shape[0]):\n",
    "    coordinates = [coor_array[i][1],coor_array[i][2]]\n",
    "    cartesian_coord = cartesian(*coordinates)\n",
    "    places.append(cartesian_coord)\n",
    "\n",
    "tree = spatial.KDTree(places)"
   ]
  },
  {
   "cell_type": "code",
   "execution_count": 111,
   "metadata": {},
   "outputs": [
    {
     "data": {
      "text/plain": [
       "array([[  194.84468086, -4738.40722202,  4254.31234733],\n",
       "       [  195.24814467, -4738.38541745,  4254.31813546],\n",
       "       [  195.65427103, -4738.36374786,  4254.32361242],\n",
       "       ...,\n",
       "       [  106.23947066, -4689.90646633,  4310.81564347],\n",
       "       [  120.39614374, -4691.53095374,  4308.6753276 ],\n",
       "       [  133.57367267, -4691.1580953 ,  4308.69293392]])"
      ]
     },
     "execution_count": 111,
     "metadata": {},
     "output_type": "execute_result"
    }
   ],
   "source": [
    "tree.data"
   ]
  },
  {
   "cell_type": "code",
   "execution_count": 112,
   "metadata": {},
   "outputs": [],
   "source": [
    "def find_neighbor(lat, lon):\n",
    "    cartesian_coord = cartesian(lat, lon)\n",
    "    closest = tree.query([cartesian_coord],k=7,p = 2)   #return 7 closest neighbor and distance\n",
    "    index = closest[1][0]\n",
    "    return closest  "
   ]
  },
  {
   "cell_type": "code",
   "execution_count": 117,
   "metadata": {},
   "outputs": [],
   "source": [
    "final_list=[]\n",
    "for i in range(0, coor_array.shape[0]):\n",
    "    sec = []\n",
    "    sec.append(i+1)\n",
    "    neighbor_list = find_neighbor ( coor_array[i][1], coor_array[i][2])   #give zone's latitude, longitude\n",
    "    neighbor_zone = list(neighbor_list)[1]\n",
    "    neighbor_distance = list(neighbor_list)[0]\n",
    "\n",
    "    ratio = 0.621371\n",
    "    for j in range(1,7):\n",
    "        zone_id = coor_array[neighbor_zone[0][j]][0]\n",
    "        distance = round(neighbor_distance[0][j]*ratio,4)   #distance in km -> miles\n",
    "        zone_dis = (int(zone_id),distance)                  #(zone_label: distance) store in tuple\n",
    "        sec.append(zone_dis)\n",
    "    final_list.append(sec)"
   ]
  },
  {
   "cell_type": "markdown",
   "metadata": {},
   "source": [
    "### Final_Sheet"
   ]
  },
  {
   "cell_type": "code",
   "execution_count": 120,
   "metadata": {},
   "outputs": [],
   "source": [
    "# output final_list to final DataFrame\n",
    "final = pd.DataFrame(final_list, columns = ['zone09','1st_nearest','2nd_nearest','3rd_nearest','4th_nearest',\\\n",
    "                                    '5th_nearest','6th_nearest'])"
   ]
  },
  {
   "cell_type": "code",
   "execution_count": 119,
   "metadata": {},
   "outputs": [],
   "source": [
    "# export final DataFrame to excel_sheet\n",
    "writer = pd.ExcelWriter('Assignment2.xlsx', engine='xlsxwriter')\n",
    "final.to_excel(writer, sheet_name='Sheet1')\n",
    "writer.save()"
   ]
  },
  {
   "cell_type": "code",
   "execution_count": null,
   "metadata": {},
   "outputs": [],
   "source": []
  }
 ],
 "metadata": {
  "kernelspec": {
   "display_name": "Python 3",
   "language": "python",
   "name": "python3"
  },
  "language_info": {
   "codemirror_mode": {
    "name": "ipython",
    "version": 3
   },
   "file_extension": ".py",
   "mimetype": "text/x-python",
   "name": "python",
   "nbconvert_exporter": "python",
   "pygments_lexer": "ipython3",
   "version": "3.6.5"
  }
 },
 "nbformat": 4,
 "nbformat_minor": 2
}
